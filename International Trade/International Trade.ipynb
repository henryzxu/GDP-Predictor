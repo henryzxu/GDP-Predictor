{
 "cells": [
  {
   "cell_type": "code",
   "execution_count": 1,
   "metadata": {
    "collapsed": true
   },
   "outputs": [],
   "source": [
    "import plotly.plotly as py\n",
    "import plotly.graph_objs as go\n",
    "import csv, numpy\n",
    "from datetime import datetime"
   ]
  },
  {
   "cell_type": "code",
   "execution_count": 5,
   "metadata": {
    "collapsed": false
   },
   "outputs": [],
   "source": [
    "class GNP_DataPoint:\n",
    "    def __init__(self, csv_dict):\n",
    "        \"\"\"Converts csv_dict to an instance of GNP_DataPoint.\"\"\"\n",
    "        if 'DATE' in csv_dict.keys():\n",
    "            conven_date = [int(string) for string in csv_dict['DATE'].split('/')]\n",
    "            conven_date[2] = conven_date[2] + 1900 if conven_date[2] > 17 else conven_date[2] + 2000\n",
    "            csv_dict['DATE'] = datetime(year = conven_date[2], month = conven_date[0], day = conven_date[1])\n",
    "        self.data = csv_dict\n",
    "    \n",
    "    def get_data(self, req):\n",
    "        \"\"\"Given a list of requests, returns requested data from self.data.\"\"\"\n",
    "        re = []\n",
    "        for query in req:\n",
    "            try:\n",
    "                re.append(self.data[query])\n",
    "            except KeyError:\n",
    "                pass\n",
    "        return re\n",
    "    \n",
    "    def __repr__(self):\n",
    "        return str(self.data)\n",
    "    \n",
    "class GNP_Database:\n",
    "    def __init__(self):\n",
    "        \"\"\"Instantiates GNP_Database.\"\"\"\n",
    "        self.database = []\n",
    "    \n",
    "    def add_point(self, csv_dict):\n",
    "        \"\"\"Adds GNP_DataPoint based on csv_dict to self.database\"\"\"\n",
    "        self.database.append(GNP_DataPoint(csv_dict))\n",
    "    \n",
    "    def request(self, req):\n",
    "        \"\"\"Returns data requested in list req\"\"\"\n",
    "        re = []\n",
    "        for point in self.database:\n",
    "            re.append(point.get_data(req))\n",
    "        return re\n",
    "    \n",
    "    def __iter__(self):\n",
    "        for point in self.database:\n",
    "            yield point\n",
    "    \n",
    "    def __getitem__(self, key):\n",
    "        return self.request([key])"
   ]
  },
  {
   "cell_type": "code",
   "execution_count": 7,
   "metadata": {
    "collapsed": false
   },
   "outputs": [
    {
     "data": {
      "text/plain": [
       "[[datetime.datetime(1948, 1, 1, 0, 0)],\n",
       " [datetime.datetime(1948, 4, 1, 0, 0)],\n",
       " [datetime.datetime(1948, 7, 1, 0, 0)],\n",
       " [datetime.datetime(1948, 10, 1, 0, 0)]]"
      ]
     },
     "execution_count": 7,
     "metadata": {},
     "output_type": "execute_result"
    }
   ],
   "source": [
    "gnp_data = GNP_Database()\n",
    "with open('data/freddata.csv', 'r') as csvfile: \n",
    "    gnpdata = csv.DictReader(csvfile)\n",
    "    for row in gnpdata:\n",
    "        gnp_data.add_point(row)\n"
   ]
  },
  {
   "cell_type": "code",
   "execution_count": 11,
   "metadata": {
    "collapsed": false
   },
   "outputs": [
    {
     "data": {
      "text/html": [
       "<iframe id=\"igraph\" scrolling=\"no\" style=\"border:none;\" seamless=\"seamless\" src=\"https://plot.ly/~henryxu/8.embed\" height=\"525px\" width=\"100%\"></iframe>"
      ],
      "text/plain": [
       "<plotly.tools.PlotlyDisplay object>"
      ]
     },
     "execution_count": 11,
     "metadata": {},
     "output_type": "execute_result"
    }
   ],
   "source": [
    "x = gnp_data['DATE']\n",
    "\n",
    "trace1 = go.Scatter(\n",
    "    x = x,\n",
    "    y = gnp_data['GNP'],\n",
    "    name = 'GNP'\n",
    ")\n",
    "\n",
    "trace2 = go.Scatter(\n",
    "    x = x,\n",
    "    y = gnp_data['CB-GNP'],\n",
    "    name = 'Command Basis GNP'\n",
    ")\n",
    "\n",
    "data = [trace1, trace2]\n",
    "py.iplot(data)"
   ]
  },
  {
   "cell_type": "code",
   "execution_count": 12,
   "metadata": {
    "collapsed": false
   },
   "outputs": [
    {
     "data": {
      "text/html": [
       "<iframe id=\"igraph\" scrolling=\"no\" style=\"border:none;\" seamless=\"seamless\" src=\"https://plot.ly/~henryxu/10.embed\" height=\"525px\" width=\"100%\"></iframe>"
      ],
      "text/plain": [
       "<plotly.tools.PlotlyDisplay object>"
      ]
     },
     "execution_count": 12,
     "metadata": {},
     "output_type": "execute_result"
    }
   ],
   "source": [
    "trace3 = go.Scatter(\n",
    "    x = x,\n",
    "    y = gnp_data['GNPYC'],\n",
    "    name = 'GNP (% Change from Last Year)'\n",
    ")\n",
    "\n",
    "trace4 = go.Scatter(\n",
    "    x = x,\n",
    "    y = gnp_data['CB-GNPYC'],\n",
    "    name = 'Command Basis GNP (% Change from Last Year)'\n",
    ")\n",
    "\n",
    "data = [trace3, trace4]\n",
    "py.iplot(data)"
   ]
  },
  {
   "cell_type": "code",
   "execution_count": null,
   "metadata": {
    "collapsed": true
   },
   "outputs": [],
   "source": []
  }
 ],
 "metadata": {
  "anaconda-cloud": {},
  "kernelspec": {
   "display_name": "Python [conda root]",
   "language": "python",
   "name": "conda-root-py"
  },
  "language_info": {
   "codemirror_mode": {
    "name": "ipython",
    "version": 3
   },
   "file_extension": ".py",
   "mimetype": "text/x-python",
   "name": "python",
   "nbconvert_exporter": "python",
   "pygments_lexer": "ipython3",
   "version": "3.5.2"
  }
 },
 "nbformat": 4,
 "nbformat_minor": 1
}
