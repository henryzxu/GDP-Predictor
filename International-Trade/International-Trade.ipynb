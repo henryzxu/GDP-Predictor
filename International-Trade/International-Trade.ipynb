{
 "cells": [
  {
   "cell_type": "code",
   "execution_count": 47,
   "metadata": {
    "collapsed": true
   },
   "outputs": [],
   "source": [
    "import plotly.plotly as py\n",
    "import plotly.graph_objs as go\n",
    "import csv, numpy\n",
    "from datetime import datetime"
   ]
  },
  {
   "cell_type": "code",
   "execution_count": 48,
   "metadata": {
    "collapsed": false
   },
   "outputs": [],
   "source": [
    "class GNP_DataPoint:\n",
    "    def __init__(self, csv_dict):\n",
    "        \"\"\"Converts csv_dict to an instance of GNP_DataPoint.\"\"\"\n",
    "        if 'DATE' in csv_dict.keys():\n",
    "            conven_date = [int(string) for string in csv_dict['DATE'].split('/')]\n",
    "            conven_date[2] = conven_date[2] + 1900 if conven_date[2] > 17 else conven_date[2] + 2000\n",
    "            csv_dict['DATE'] = datetime(year = conven_date[2], month = conven_date[0], day = conven_date[1])\n",
    "        self.data = csv_dict\n",
    "    \n",
    "    def get_data(self, req):\n",
    "        \"\"\"Given a list of requests, returns requested data from self.data.\"\"\"\n",
    "        re = []\n",
    "        for query in req:\n",
    "            try:\n",
    "                if not self.data[query] == 'None':\n",
    "                    re.append(self.data[query])\n",
    "            except KeyError:\n",
    "                pass\n",
    "        return re\n",
    "    \n",
    "    def __repr__(self):\n",
    "        return str(self.data)\n",
    "    \n",
    "class GNP_Database:\n",
    "    def __init__(self):\n",
    "        \"\"\"Instantiates GNP_Database.\"\"\"\n",
    "        self.database = []\n",
    "    \n",
    "    def add_point(self, csv_dict):\n",
    "        \"\"\"Adds GNP_DataPoint based on csv_dict to self.database\"\"\"\n",
    "        self.database.append(GNP_DataPoint(csv_dict))\n",
    "    \n",
    "    def request(self, req):\n",
    "        \"\"\"Returns data requested in list req\"\"\"\n",
    "        re = []\n",
    "        for point in self.database:\n",
    "            re.extend(point.get_data(req))\n",
    "        return re\n",
    "    \n",
    "    def __iter__(self):\n",
    "        for point in self.database:\n",
    "            yield point\n",
    "    \n",
    "    def __getitem__(self, key):\n",
    "        return self.request([key])"
   ]
  },
  {
   "cell_type": "code",
   "execution_count": 72,
   "metadata": {
    "collapsed": false
   },
   "outputs": [],
   "source": [
    "gnp_data = GNP_Database()\n",
    "with open('data/freddata.csv', 'r') as csvfile: \n",
    "    gnpdata = csv.DictReader(csvfile)\n",
    "    for row in gnpdata:\n",
    "        gnp_data.add_point(row)"
   ]
  },
  {
   "cell_type": "code",
   "execution_count": 43,
   "metadata": {
    "collapsed": false
   },
   "outputs": [
    {
     "data": {
      "text/html": [
       "<iframe id=\"igraph\" scrolling=\"no\" style=\"border:none;\" seamless=\"seamless\" src=\"https://plot.ly/~henryxu/38.embed\" height=\"525px\" width=\"100%\"></iframe>"
      ],
      "text/plain": [
       "<plotly.tools.PlotlyDisplay object>"
      ]
     },
     "execution_count": 43,
     "metadata": {},
     "output_type": "execute_result"
    }
   ],
   "source": [
    "x = gnp_data['DATE']\n",
    "\n",
    "trace1 = go.Scatter(\n",
    "    x = x,\n",
    "    y = gnp_data['GNP'],\n",
    "    name = 'GNP'\n",
    ")\n",
    "\n",
    "trace2 = go.Scatter(\n",
    "    x = x,\n",
    "    y = gnp_data['CB-GNP'],\n",
    "    name = 'Command Basis GNP'\n",
    ")\n",
    "\n",
    "data = [trace1, trace2]\n",
    "py.iplot(data)"
   ]
  },
  {
   "cell_type": "code",
   "execution_count": 44,
   "metadata": {
    "collapsed": false
   },
   "outputs": [
    {
     "data": {
      "text/html": [
       "<iframe id=\"igraph\" scrolling=\"no\" style=\"border:none;\" seamless=\"seamless\" src=\"https://plot.ly/~henryxu/40.embed\" height=\"525px\" width=\"100%\"></iframe>"
      ],
      "text/plain": [
       "<plotly.tools.PlotlyDisplay object>"
      ]
     },
     "execution_count": 44,
     "metadata": {},
     "output_type": "execute_result"
    }
   ],
   "source": [
    "trace3 = go.Scatter(\n",
    "    x = x,\n",
    "    y = gnp_data['GNPYC'],\n",
    "    name = 'GNP (% Change from Last Year)'\n",
    ")\n",
    "\n",
    "trace4 = go.Scatter(\n",
    "    x = x,\n",
    "    y = gnp_data['CB-GNPYC'],\n",
    "    name = 'Command Basis GNP (% Change from Last Year)'\n",
    ")\n",
    "\n",
    "data = [trace3, trace4]\n",
    "py.iplot(data)"
   ]
  },
  {
   "cell_type": "code",
   "execution_count": 54,
   "metadata": {
    "collapsed": false
   },
   "outputs": [
    {
     "data": {
      "text/html": [
       "<iframe id=\"igraph\" scrolling=\"no\" style=\"border:none;\" seamless=\"seamless\" src=\"https://plot.ly/~henryxu/50.embed\" height=\"525px\" width=\"100%\"></iframe>"
      ],
      "text/plain": [
       "<plotly.tools.PlotlyDisplay object>"
      ]
     },
     "execution_count": 54,
     "metadata": {},
     "output_type": "execute_result"
    }
   ],
   "source": [
    "adjusted_date_1988 = [date for date in x if date.year >= 1988]\n",
    "trace5 = go.Scatter(\n",
    "    x = adjusted_date_1988,\n",
    "    y = gnp_data['OUTMS'],\n",
    "    name = 'Manufacturing: Real Ouput (Index 2009 = 100)'\n",
    ")\n",
    "\n",
    "trace6 = go.Scatter(\n",
    "    x = adjusted_date_1988,\n",
    "    y = gnp_data['OUTNFB'],\n",
    "    name = 'Nonfarm Business: Real Ouput (Index 2009 = 100)'\n",
    ")\n",
    "\n",
    "data = [trace5, trace6]\n",
    "py.iplot(data)"
   ]
  },
  {
   "cell_type": "code",
   "execution_count": 46,
   "metadata": {
    "collapsed": false
   },
   "outputs": [
    {
     "data": {
      "text/html": [
       "<iframe id=\"igraph\" scrolling=\"no\" style=\"border:none;\" seamless=\"seamless\" src=\"https://plot.ly/~henryxu/44.embed\" height=\"525px\" width=\"100%\"></iframe>"
      ],
      "text/plain": [
       "<plotly.tools.PlotlyDisplay object>"
      ]
     },
     "execution_count": 46,
     "metadata": {},
     "output_type": "execute_result"
    }
   ],
   "source": [
    "trace7 = go.Scatter(\n",
    "    x = adjusted_date_1988,\n",
    "    y = gnp_data['OPHMFG'],\n",
    "    name = 'Manufacturing: Real Ouput Per Hour Per Worker (Index 2009 = 100)'\n",
    ")\n",
    "\n",
    "trace8 = go.Scatter(\n",
    "    x = adjusted_date_1988,\n",
    "    y = gnp_data['OPHNFB'],\n",
    "    name = 'Nonfarm Business: Real Ouput Per Hour Per Worker(Index 2009 = 100)'\n",
    ")\n",
    "\n",
    "data = [trace7, trace8]\n",
    "py.iplot(data)"
   ]
  },
  {
   "cell_type": "code",
   "execution_count": 75,
   "metadata": {
    "collapsed": false
   },
   "outputs": [
    {
     "data": {
      "text/html": [
       "<iframe id=\"igraph\" scrolling=\"no\" style=\"border:none;\" seamless=\"seamless\" src=\"https://plot.ly/~henryxu/74.embed\" height=\"525px\" width=\"100%\"></iframe>"
      ],
      "text/plain": [
       "<plotly.tools.PlotlyDisplay object>"
      ]
     },
     "execution_count": 75,
     "metadata": {},
     "output_type": "execute_result"
    }
   ],
   "source": [
    "adjusted_date_1960_2015 = [date for date in x if date.year >= 1960 and date.year <= 2015 and date.month == 1]\n",
    "adjusted_date_1950_2011 = [date for date in x if date.year >= 1950 and date.year <= 2011 and date.month == 1]\n",
    "trace9 = go.Scatter(\n",
    "    x = adjusted_date_1960_2015,\n",
    "    y = gnp_data['T-GDP'],\n",
    "    name = 'Trade (% of GDP)'\n",
    ")\n",
    "trace10 = go.Scatter(\n",
    "    x = adjusted_date_1950_2011,\n",
    "    y = gnp_data['OUTMS-A'],\n",
    "    name = 'Manufacturing Output',\n",
    "    yaxis = 'y2'\n",
    ")\n",
    "data = [trace9, trace10]\n",
    "\n",
    "layout = go.Layout(\n",
    "    title='Trade vs Manufactuing Ouput',\n",
    "    showlegend=True,\n",
    "    legend=dict(\n",
    "        x=0,\n",
    "        y=1\n",
    "    ),\n",
    "    yaxis=dict(\n",
    "        title='Percent of GDP'\n",
    "    ),\n",
    "    yaxis2=dict(\n",
    "        title='Index (2009 = 100)', \n",
    "        overlaying='y',\n",
    "        side='right'\n",
    "    )\n",
    ")\n",
    "\n",
    "fig = go.Figure(data=data, layout=layout)\n",
    "py.iplot(fig)"
   ]
  },
  {
   "cell_type": "code",
   "execution_count": 83,
   "metadata": {
    "collapsed": false
   },
   "outputs": [
    {
     "data": {
      "text/html": [
       "<iframe id=\"igraph\" scrolling=\"no\" style=\"border:none;\" seamless=\"seamless\" src=\"https://plot.ly/~henryxu/88.embed\" height=\"525px\" width=\"100%\"></iframe>"
      ],
      "text/plain": [
       "<plotly.tools.PlotlyDisplay object>"
      ]
     },
     "execution_count": 83,
     "metadata": {},
     "output_type": "execute_result"
    }
   ],
   "source": [
    "trace10 = go.Scatter(\n",
    "    x = x,\n",
    "    y = gnp_data['MANEMP'],\n",
    "    name = 'Employment'\n",
    ")\n",
    "trace11 = go.Scatter(\n",
    "    x = adjusted_date_1950_2011,\n",
    "    y = gnp_data['OUTMS-A'],\n",
    "    name = 'Real Output',\n",
    "    yaxis = 'y2'\n",
    ")\n",
    "trace7_revised = go.Scatter(\n",
    "    x = adjusted_date_1988,\n",
    "    y = gnp_data['OPHMFG'],\n",
    "    name = 'Ouput Per Worker',\n",
    "    yaxis = 'y2'\n",
    ")\n",
    "data = [trace10, trace11, trace7_revised]\n",
    "\n",
    "layout = go.Layout(\n",
    "    title='Manufacturing Trends',\n",
    "    showlegend=True,\n",
    "    legend=dict(\n",
    "        orientation = 'h'\n",
    "    ),\n",
    "    yaxis=dict(\n",
    "        title='Thousands of Persons'\n",
    "    ),\n",
    "    yaxis2=dict(\n",
    "        title='Index (2009 = 100)', \n",
    "        overlaying='y',\n",
    "        side='right'\n",
    "    )\n",
    ")\n",
    "\n",
    "fig = go.Figure(data=data, layout=layout)\n",
    "py.iplot(fig)"
   ]
  },
  {
   "cell_type": "code",
   "execution_count": null,
   "metadata": {
    "collapsed": true
   },
   "outputs": [],
   "source": []
  }
 ],
 "metadata": {
  "anaconda-cloud": {},
  "kernelspec": {
   "display_name": "Python [conda root]",
   "language": "python",
   "name": "conda-root-py"
  },
  "language_info": {
   "codemirror_mode": {
    "name": "ipython",
    "version": 3
   },
   "file_extension": ".py",
   "mimetype": "text/x-python",
   "name": "python",
   "nbconvert_exporter": "python",
   "pygments_lexer": "ipython3",
   "version": "3.5.2"
  }
 },
 "nbformat": 4,
 "nbformat_minor": 1
}
