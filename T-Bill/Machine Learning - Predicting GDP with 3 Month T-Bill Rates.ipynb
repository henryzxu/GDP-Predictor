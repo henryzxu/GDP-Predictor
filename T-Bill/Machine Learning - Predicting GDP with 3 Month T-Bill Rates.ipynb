{
 "cells": [
  {
   "cell_type": "markdown",
   "metadata": {},
   "source": [
    "# Machine Learning: Predicting GDP with 3 Month T-Bill Rates"
   ]
  },
  {
   "cell_type": "code",
   "execution_count": 385,
   "metadata": {
    "collapsed": false
   },
   "outputs": [],
   "source": [
    "import matplotlib.pyplot as plt, csv, datetime as dt #import matlab plotting, file reader functions, and datetime function"
   ]
  },
  {
   "cell_type": "markdown",
   "metadata": {},
   "source": [
    "## CSV Data Extraction "
   ]
  },
  {
   "cell_type": "markdown",
   "metadata": {},
   "source": [
    "### CSV Reader Version 1\n",
    "Conversion of CSV data into a Python dictionary without use of csv.DictReader. The end result is the same, but Version 2 is far cleaner.\n",
    "\n",
    "    with open('gdp_real.csv', newline = '') as csvfile: #import GDP data\n",
    "        gdpreader = csv.reader(csvfile) #use of csv.reader \n",
    "        headers = next(gdpreader)\n",
    "        gdp_data = {header:[] for header in headers}\n",
    "        for row in gdpreader:\n",
    "            for header in headers:\n",
    "                gdp_data[header].append(row[headers.index(header)])"
   ]
  },
  {
   "cell_type": "markdown",
   "metadata": {},
   "source": [
    "### CSV Reader Version 2 (Current)"
   ]
  },
  {
   "cell_type": "code",
   "execution_count": 386,
   "metadata": {
    "collapsed": false
   },
   "outputs": [],
   "source": [
    "with open('gdp_real.csv', newline = '') as csvfile: #import GDP data\n",
    "    gdpreader = csv.DictReader(csvfile) #use of csv.DictReader \n",
    "    gdp_data = {}\n",
    "    for row in gdpreader:\n",
    "        for column, value in row.items():\n",
    "            gdp_data.setdefault(column, []).append(value)"
   ]
  },
  {
   "cell_type": "markdown",
   "metadata": {},
   "source": [
    "### Date Format Parsing\n",
    "My initial idea was to turn all dates into ordinals, which, as integers, are easier to work with than strings or datetime objects. However, ordinals would prove difficult to perform linear regresions on and graph given the large size of their numeric values. \n",
    "    \n",
    "    def us_locale_to_ordinal(str_date):\n",
    "        date = [int(x) for x in str_date.split('/')]\n",
    "        if date[2] <= dt.date.today().year-2000:\n",
    "            date[2] += 2000\n",
    "        elif date[2] < 1900:\n",
    "            date[2]+= 1900\n",
    "        return dt.date.toordinal(dt.date(date[2], date[0], date[1]))\n",
    "\n",
    "    gdp_data['DATE'] = [us_locale_to_ordinal(x) for x in gdp_data['DATE']]\n",
    "    \n",
    "Upon realizing their disadvantages, I chose to instead use a count of quarters since 1/1/66, the beginning of my data set."
   ]
  },
  {
   "cell_type": "code",
   "execution_count": 387,
   "metadata": {
    "collapsed": false
   },
   "outputs": [],
   "source": [
    "# simplify date into quarters starting from 1/1/66\n",
    "gdp_data['DATE'] = [i for i in range(len(gdp_data['DATE']))] "
   ]
  },
  {
   "cell_type": "markdown",
   "metadata": {},
   "source": [
    "### Conversion of all Data into Floats and Calculating Percent Change in GDP from Existing GDP Values"
   ]
  },
  {
   "cell_type": "code",
   "execution_count": 388,
   "metadata": {
    "collapsed": true
   },
   "outputs": [],
   "source": [
    "for header in gdp_data:\n",
    "    gdp_data[header] = [float(x) for x in gdp_data[header]]\n",
    "    \n",
    "def percent_change(present, past):\n",
    "    return (present-past)/past*100\n",
    "gdp_data['PERCENT CHANGE IN GDP'] = [percent_change(gdp_data['REAL GDP VALUE'][i],gdp_data['REAL GDP VALUE'][i-1]) for i in range(1, len(gdp_data['REAL GDP VALUE']))]"
   ]
  },
  {
   "cell_type": "markdown",
   "metadata": {},
   "source": [
    "## Analyzing the Data\n"
   ]
  },
  {
   "cell_type": "code",
   "execution_count": 389,
   "metadata": {
    "collapsed": false
   },
   "outputs": [],
   "source": [
    "# Creating different data groupings\n",
    "realgdp_vs_time = zip(gdp_data['DATE'], gdp_data['REAL GDP VALUE']) \n",
    "deltagdp_vs_tbillrate = zip(gdp_data['3 MONTH T-BILL VALUE'][1:], gdp_data['PERCENT CHANGE IN GDP'])"
   ]
  },
  {
   "cell_type": "markdown",
   "metadata": {},
   "source": [
    "## Using Tensorflow to Analyze the Percent Change in GDP vs 3 Month T-Bill Rate \n",
    "My first linear regression using Tensorflow. Although not optimized, it attempts to linearize the training data set."
   ]
  },
  {
   "cell_type": "code",
   "execution_count": 390,
   "metadata": {
    "collapsed": false
   },
   "outputs": [],
   "source": [
    "import tensorflow as tf, numpy as np #import tensorflow and numpy"
   ]
  },
  {
   "cell_type": "code",
   "execution_count": 391,
   "metadata": {
    "collapsed": false
   },
   "outputs": [],
   "source": [
    "x = tf.placeholder(tf.float32, [None,1])\n",
    "a = tf.Variable(tf.zeros([1,1]))\n",
    "b = tf.Variable(tf.zeros([1]))\n",
    "y = tf.matmul(x,a)+b\n",
    "y_ = tf.placeholder(tf.float32, [None,1])\n",
    "gdp = tf.reduce_sum(tf.pow((y_-y),2))\n",
    "train_step = tf.train.GradientDescentOptimizer(0.0001).minimize(gdp)\n",
    "init = tf.initialize_all_variables()\n",
    "with tf.Session() as sess:\n",
    "    sess.run(init)\n",
    "    for tbillrate,gdp in deltagdp_vs_tbillrate:\n",
    "        feed = {x: np.array([[tbillrate]]), y_: np.array([[gdp]])}\n",
    "        sess.run(train_step, feed_dict = feed)\n",
    "    a = sess.run(a)\n",
    "    b = sess.run(b)"
   ]
  },
  {
   "cell_type": "markdown",
   "metadata": {},
   "source": [
    "### Graph of Percent Change in Real GDP vs 3 Month T-Bill Rate with Linear Regression"
   ]
  },
  {
   "cell_type": "code",
   "execution_count": 392,
   "metadata": {
    "collapsed": false,
    "scrolled": true
   },
   "outputs": [
    {
     "data": {
      "image/png": "[encoded data removed]",
      "text/plain": [
       "<matplotlib.figure.Figure at 0x122d166d8>"
      ]
     },
     "metadata": {},
     "output_type": "display_data"
    },
    {
     "name": "stdout",
     "output_type": "stream",
     "text": [
      "R-squared: -0.238694996397\n"
     ]
    }
   ],
   "source": [
    "plt.scatter(gdp_data['3 MONTH T-BILL VALUE'][1:], gdp_data['PERCENT CHANGE IN GDP'])\n",
    "x = np.array([x for x in gdp_data['3 MONTH T-BILL VALUE']])\n",
    "y = np.array([a[0][0]*y+b[0] for y in x])   \n",
    "plt.plot(x,y)\n",
    "plt.xlabel('T-Bill Rate')\n",
    "plt.ylabel('Percent Change in Real GDP')\n",
    "plt.show()\n",
    "\n",
    "sum_squares = sum([pow(actual - np.mean(gdp_data['PERCENT CHANGE IN GDP']),2) for actual in gdp_data['PERCENT CHANGE IN GDP']])\n",
    "\n",
    "def squared_residuals(predicted, actual):\n",
    "    return pow(actual-predicted,2)\n",
    "sum_squares_resid = sum([squared_residuals(actual,predicted) for actual,predicted in zip(gdp_data['PERCENT CHANGE IN GDP'], y)])\n",
    "\n",
    "r_squared = 1 - sum_squares_resid/sum_squares\n",
    "print('R-squared:', r_squared)"
   ]
  },
  {
   "cell_type": "markdown",
   "metadata": {
    "collapsed": true
   },
   "source": [
    "### Conclusion Drawn from Tensorflow Regression\n",
    "There is little to no linear correlation between T-Bill Rate and Percent Change in Real GDP. This is most evident by the negative value of the R-squared value of the linear regression. Thus, using more economic variables is mandatory to understand the elements behind GDP growth and fluctutation."
   ]
  }
 ],
 "metadata": {
  "anaconda-cloud": {},
  "kernelspec": {
   "display_name": "Python [conda root]",
   "language": "python",
   "name": "conda-root-py"
  },
  "language_info": {
   "codemirror_mode": {
    "name": "ipython",
    "version": 3
   },
   "file_extension": ".py",
   "mimetype": "text/x-python",
   "name": "python",
   "nbconvert_exporter": "python",
   "pygments_lexer": "ipython3",
   "version": "3.5.2"
  }
 },
 "nbformat": 4,
 "nbformat_minor": 1
}
