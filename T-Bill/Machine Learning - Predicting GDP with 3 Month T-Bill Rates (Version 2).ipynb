{
 "cells": [
  {
   "cell_type": "markdown",
   "metadata": {},
   "source": [
    "# Machine Learning: Predicting GDP Growth with 3 Month T-Bill Rates"
   ]
  },
  {
   "cell_type": "code",
   "execution_count": 1,
   "metadata": {
    "collapsed": false
   },
   "outputs": [],
   "source": [
    "%matplotlib inline\n",
    "import matplotlib.pyplot as plt, csv, datetime as dt #import matlab plotting, file reader functions, and datetime function\n",
    "plt.style.use('fivethirtyeight')\n",
    "import numpy as np \n",
    "from sklearn import datasets, linear_model"
   ]
  },
  {
   "cell_type": "markdown",
   "metadata": {},
   "source": [
    "## Introduction\n",
    "The goal of this project was to predict GDP growth with 3 Month T-Bill Rates. No assumptions were made. Data used were real GDP values from 1/1/66 to 7/1/16 and 3 Month T-Bill Rates from 1/1/66 to 7/1/16 from FRED compiled by the St. Louis Fed. Methodolgy used was a linear regression to determine correlation between GDP growth and 3 Month T-Bill Rates. "
   ]
  },
  {
   "cell_type": "markdown",
   "metadata": {},
   "source": [
    "## CSV Data Extraction "
   ]
  },
  {
   "cell_type": "markdown",
   "metadata": {},
   "source": [
    "### CSV Reader Version 1\n",
    "Conversion of CSV data into a Python dictionary without use of csv.DictReader. The end result is the same, but Version 2 is far cleaner.\n",
    "\n",
    "    with open('data/gdp_real.csv', newline = '') as csvfile: #import GDP data\n",
    "        gdpreader = csv.reader(csvfile) #use of csv.reader \n",
    "        headers = next(gdpreader)\n",
    "        gdp_data = {header:[] for header in headers}\n",
    "        for row in gdpreader:\n",
    "            for header in headers:\n",
    "                gdp_data[header].append(row[headers.index(header)])"
   ]
  },
  {
   "cell_type": "markdown",
   "metadata": {},
   "source": [
    "### CSV Reader Version 2 (Current)"
   ]
  },
  {
   "cell_type": "code",
   "execution_count": 2,
   "metadata": {
    "collapsed": false
   },
   "outputs": [],
   "source": [
    "with open('data/gdp_real.csv', newline = '') as csvfile: #import GDP data\n",
    "    gdpreader = csv.DictReader(csvfile) #use of csv.DictReader \n",
    "    gdp_data = {}\n",
    "    for row in gdpreader:\n",
    "        for column, value in row.items():\n",
    "            gdp_data.setdefault(column, []).append(value)"
   ]
  },
  {
   "cell_type": "markdown",
   "metadata": {},
   "source": [
    "### Data Formatting\n",
    "My initial idea was to turn all dates into ordinals, which, as integers, are easier to work with than strings or datetime objects. However, ordinals would prove difficult to perform linear regresions on and graph given the large size of their numeric values. \n",
    "    \n",
    "    def us_locale_to_ordinal(str_date):\n",
    "        date = [int(x) for x in str_date.split('/')]\n",
    "        if date[2] <= dt.date.today().year-2000:\n",
    "            date[2] += 2000\n",
    "        elif date[2] < 1900:\n",
    "            date[2]+= 1900\n",
    "        return dt.date.toordinal(dt.date(date[2], date[0], date[1]))\n",
    "\n",
    "    gdp_data['DATE'] = [us_locale_to_ordinal(x) for x in gdp_data['DATE']]\n",
    "    \n",
    "Upon realizing the disadvantages, I chose to instead use a count of quarters since 1/1/66, the beginning of my data set."
   ]
  },
  {
   "cell_type": "code",
   "execution_count": 3,
   "metadata": {
    "collapsed": false
   },
   "outputs": [],
   "source": [
    "# simplify date into quarters starting from 1/1/66\n",
    "gdp_data['DATE'] = [i for i in range(len(gdp_data['DATE']))] \n",
    "\n",
    "# conversion of all values into floats\n",
    "for header in gdp_data:\n",
    "    gdp_data[header] = [float(x) for x in gdp_data[header]]\n",
    "    \n",
    "# calculate percent change in GDP     \n",
    "def percent_change(present, past):\n",
    "    return (present-past)/past*100\n",
    "gdp_data['PERCENT CHANGE IN GDP'] = [percent_change(gdp_data['REAL GDP VALUE'][i],gdp_data['REAL GDP VALUE'][i-1]) for i in range(1, len(gdp_data['REAL GDP VALUE']))]\n",
    "\n",
    "# truncate data set to only include quarters from 4/1/66\n",
    "gdp_data['3 MONTH T-BILL VALUE'] = gdp_data['3 MONTH T-BILL VALUE'][1:]"
   ]
  },
  {
   "cell_type": "markdown",
   "metadata": {},
   "source": [
    "## Analyzing the Data\n"
   ]
  },
  {
   "cell_type": "markdown",
   "metadata": {},
   "source": [
    "###  Standard Linear Regression Using Scikit\n"
   ]
  },
  {
   "cell_type": "code",
   "execution_count": 4,
   "metadata": {
    "collapsed": false
   },
   "outputs": [
    {
     "data": {
      "text/plain": [
       "LinearRegression(copy_X=True, fit_intercept=True, n_jobs=1, normalize=False)"
      ]
     },
     "execution_count": 4,
     "metadata": {},
     "output_type": "execute_result"
    }
   ],
   "source": [
    "for header in gdp_data.keys():\n",
    "    gdp_data[header] = np.asarray(gdp_data[header]).reshape(-1,1)\n",
    "\n",
    "x = gdp_data['3 MONTH T-BILL VALUE']\n",
    "y = gdp_data['PERCENT CHANGE IN GDP']\n",
    "regr = linear_model.LinearRegression()\n",
    "regr.fit(x,y)"
   ]
  },
  {
   "cell_type": "markdown",
   "metadata": {},
   "source": [
    "### Tensorflow Linear Regression (On Hiatus)"
   ]
  },
  {
   "cell_type": "markdown",
   "metadata": {
    "collapsed": false
   },
   "source": [
    "Import Statements:\n",
    "\n",
    "    import tensorflow as tf #import tensorflow and numpy\n",
    "    rng = np.random\n",
    "    learning_rate = 0.01\n",
    "    training_epochs = 1000\n",
    "    display_steps = 50"
   ]
  },
  {
   "cell_type": "markdown",
   "metadata": {},
   "source": [
    "Previous version (functional):\n",
    "\n",
    "    x = tf.placeholder(tf.float32, [None,1])\n",
    "    a = tf.Variable(tf.zeros([1,1]))\n",
    "    b = tf.Variable(tf.zeros([1]))\n",
    "    y = tf.matmul(x,a)+b\n",
    "    y_ = tf.placeholder(tf.float32, [None,1])\n",
    "    \n",
    "    gdp = tf.reduce_sum(tf.pow((y_-y),2))\n",
    "    train_step = tf.train.GradientDescentOptimizer(0.0001).minimize(gdp)\n",
    "    \n",
    "    init = tf.initialize_all_variables()\n",
    "    \n",
    "    with tf.Session() as sess:\n",
    "        sess.run(init)\n",
    "        for tbillrate,gdp in deltagdp_vs_tbillrate:\n",
    "            feed = {x: np.array([[tbillrate]]), y_: np.array([[gdp]])}\n",
    "            sess.run(train_step, feed_dict = feed)\n",
    "        a = sess.run(a)\n",
    "        b = sess.run(b)"
   ]
  },
  {
   "cell_type": "markdown",
   "metadata": {
    "collapsed": false
   },
   "source": [
    "Current version (not functional):\n",
    "\n",
    "    tbillrate = np.asarray(gdp_data['3 MONTH T-BILL VALUE'][1:]),(len(gdp_data['3 MONTH T-BILL VALUE'][1:]))\n",
    "    delta_gdp = np.asarray(gdp_data['PERCENT CHANGE IN GDP'])\n",
    "\n",
    "    x = tf.placeholder(tf.float32,[None,1])\n",
    "    y_ = tf.placeholder(tf.float32,[None,1])\n",
    "    a = tf.Variable(tf.zeros([1,1]))\n",
    "    b = tf.Variable(tf.zeros([1]))\n",
    "    y = tf.add(tf.matmul(x,a),b)\n",
    "\n",
    "    cost = tf.reduce_sum(tf.square(y-y_))\n",
    "    train_step = tf.train.AdamOptimizer(learning_rate).minimize(cost)\n",
    "\n",
    "    init = tf.initialize_all_variables()\n",
    "\n",
    "    with tf.Session() as sess:\n",
    "        sess.run(init)\n",
    "        for epoch in range(training_epochs):\n",
    "            for tbillrate,deltagdp in zip(tbillrate, delta_gdp):\n",
    "                feed = {x: tbillrate, y_: delta_gdp}\n",
    "                sess.run(train_step, feed_dict = feed)\n",
    "            if epoch % display_steps == 0:\n",
    "                print(sess.run(cost, feed_dict={x:tbillrate, y_:delta_gdp}))"
   ]
  },
  {
   "cell_type": "markdown",
   "metadata": {},
   "source": [
    "### Graphs"
   ]
  },
  {
   "cell_type": "code",
   "execution_count": 5,
   "metadata": {
    "collapsed": false,
    "scrolled": true
   },
   "outputs": [
    {
     "data": {
      "image/png": "[encoded data removed]",
      "text/plain": [
       "<matplotlib.figure.Figure at 0x10475a780>"
      ]
     },
     "metadata": {},
     "output_type": "display_data"
    },
    {
     "name": "stdout",
     "output_type": "stream",
     "text": [
      "Coefficient:  0.0165730695461\n",
      "Mean Squared Error: 0.641901\n",
      "Variance: 0.004640\n"
     ]
    }
   ],
   "source": [
    "plt.scatter(x,y, color=\"black\", s=10)\n",
    "plt.plot(x,regr.predict(x), color = \"blue\", linewidth=2)\n",
    "plt.ylabel(\"GDP Growth(%)\")\n",
    "plt.xlabel(\"3 Month T-Bill Rate(%)\")\n",
    "plt.title('T-Bill Rates and GDP Growth')\n",
    "plt.show()\n",
    "print('Coefficient: ', regr.coef_[0][0])\n",
    "print('Mean Squared Error: %2f' % np.mean((regr.predict(x) - y)**2))\n",
    "print('Variance: %2f' % regr.score(x,y))"
   ]
  },
  {
   "cell_type": "markdown",
   "metadata": {
    "collapsed": true
   },
   "source": [
    "## Conclusion\n",
    "There is little to no linear correlation between T-Bill Rate and Percent Change in Real GDP. This is most evident by the negative value of the R-squared value of the linear regression. Thus, using more economic variables is mandatory to understand the elements behind GDP fluctuation."
   ]
  }
 ],
 "metadata": {
  "anaconda-cloud": {},
  "kernelspec": {
   "display_name": "Python [conda root]",
   "language": "python",
   "name": "conda-root-py"
  },
  "language_info": {
   "codemirror_mode": {
    "name": "ipython",
    "version": 3
   },
   "file_extension": ".py",
   "mimetype": "text/x-python",
   "name": "python",
   "nbconvert_exporter": "python",
   "pygments_lexer": "ipython3",
   "version": "3.5.2"
  }
 },
 "nbformat": 4,
 "nbformat_minor": 1
}
